{
 "cells": [
  {
   "cell_type": "code",
   "execution_count": 115,
   "id": "74a4c5f9",
   "metadata": {},
   "outputs": [],
   "source": [
    "import pandas as pd\n",
    "import numpy as np\n",
    "import matplotlib.pyplot as plt\n",
    "import time\n",
    "import datetime"
   ]
  },
  {
   "cell_type": "code",
   "execution_count": 130,
   "id": "bd4ebab8",
   "metadata": {},
   "outputs": [
    {
     "data": {
      "text/plain": [
       "1634248020.483796"
      ]
     },
     "execution_count": 130,
     "metadata": {},
     "output_type": "execute_result"
    }
   ],
   "source": [
    "wind_data=\"/home/flyranch/field_data_and_analysis_scripts/2021lab/wind_data_textfiles/2021_10_14_test.txt\"\n",
    "wind_df=pd.read_csv(wind_data,delimiter=' ',header=None)\n",
    "wind_df.columns=(\"time\",\"direction\",\"wind_speed\")\n",
    "wind_df.iloc[0][0]"
   ]
  },
  {
   "cell_type": "code",
   "execution_count": 117,
   "id": "cfb26596",
   "metadata": {},
   "outputs": [],
   "source": [
    "time_list=[]\n",
    "\n",
    "for i in wind_df.iloc[:,0]:\n",
    "    time=datetime.datetime.fromtimestamp(i)\n",
    "#    string_t=str(time.year)+'_'+str(time.month)+'_'+str(time.day)+'_'+str(time.hour)+'_'+str(time.minute)+'_'+str(time.second)+'_'+str(time.microsecond)\n",
    "#    print(string_t)\n",
    "    str_h=str(time.hour)\n",
    "    str_m=str(time.minute)\n",
    "    str_s=str(time.second)\n",
    "    if len(str_h)==1:\n",
    "        str_h='0'+str_h\n",
    "    if len(str_m)==1:\n",
    "        str_m='0'+str_m\n",
    "    if len(str_s)==1:\n",
    "        str_s='0'+str_s\n",
    "    str_time=str_h+str_m+str_s\n",
    "#    print(str_time)\n",
    "    time_list.append(str_time)\n",
    "    \n",
    "wind_df.iloc[:,0]=time_list\n",
    "\n"
   ]
  },
  {
   "cell_type": "code",
   "execution_count": 118,
   "id": "4022d4fa",
   "metadata": {},
   "outputs": [
    {
     "data": {
      "text/html": [
       "<div>\n",
       "<style scoped>\n",
       "    .dataframe tbody tr th:only-of-type {\n",
       "        vertical-align: middle;\n",
       "    }\n",
       "\n",
       "    .dataframe tbody tr th {\n",
       "        vertical-align: top;\n",
       "    }\n",
       "\n",
       "    .dataframe thead th {\n",
       "        text-align: right;\n",
       "    }\n",
       "</style>\n",
       "<table border=\"1\" class=\"dataframe\">\n",
       "  <thead>\n",
       "    <tr style=\"text-align: right;\">\n",
       "      <th></th>\n",
       "      <th>datetime</th>\n",
       "      <th>direction</th>\n",
       "      <th>wind_speed</th>\n",
       "    </tr>\n",
       "  </thead>\n",
       "  <tbody>\n",
       "    <tr>\n",
       "      <th>0</th>\n",
       "      <td>144700</td>\n",
       "      <td>255.37840</td>\n",
       "      <td>0.401781</td>\n",
       "    </tr>\n",
       "    <tr>\n",
       "      <th>1</th>\n",
       "      <td>144701</td>\n",
       "      <td>255.30560</td>\n",
       "      <td>0.401781</td>\n",
       "    </tr>\n",
       "    <tr>\n",
       "      <th>2</th>\n",
       "      <td>144701</td>\n",
       "      <td>255.78620</td>\n",
       "      <td>0.401781</td>\n",
       "    </tr>\n",
       "    <tr>\n",
       "      <th>3</th>\n",
       "      <td>144701</td>\n",
       "      <td>255.48770</td>\n",
       "      <td>0.401781</td>\n",
       "    </tr>\n",
       "    <tr>\n",
       "      <th>4</th>\n",
       "      <td>144701</td>\n",
       "      <td>255.48770</td>\n",
       "      <td>0.401781</td>\n",
       "    </tr>\n",
       "    <tr>\n",
       "      <th>...</th>\n",
       "      <td>...</td>\n",
       "      <td>...</td>\n",
       "      <td>...</td>\n",
       "    </tr>\n",
       "    <tr>\n",
       "      <th>14399</th>\n",
       "      <td>145859</td>\n",
       "      <td>59.91599</td>\n",
       "      <td>0.689762</td>\n",
       "    </tr>\n",
       "    <tr>\n",
       "      <th>14400</th>\n",
       "      <td>145900</td>\n",
       "      <td>60.07620</td>\n",
       "      <td>0.689762</td>\n",
       "    </tr>\n",
       "    <tr>\n",
       "      <th>14401</th>\n",
       "      <td>145900</td>\n",
       "      <td>60.24368</td>\n",
       "      <td>0.698022</td>\n",
       "    </tr>\n",
       "    <tr>\n",
       "      <th>14402</th>\n",
       "      <td>145900</td>\n",
       "      <td>59.92327</td>\n",
       "      <td>0.698899</td>\n",
       "    </tr>\n",
       "    <tr>\n",
       "      <th>14403</th>\n",
       "      <td>145900</td>\n",
       "      <td>60.14173</td>\n",
       "      <td>0.698899</td>\n",
       "    </tr>\n",
       "  </tbody>\n",
       "</table>\n",
       "<p>14404 rows × 3 columns</p>\n",
       "</div>"
      ],
      "text/plain": [
       "      datetime  direction  wind_speed\n",
       "0       144700  255.37840    0.401781\n",
       "1       144701  255.30560    0.401781\n",
       "2       144701  255.78620    0.401781\n",
       "3       144701  255.48770    0.401781\n",
       "4       144701  255.48770    0.401781\n",
       "...        ...        ...         ...\n",
       "14399   145859   59.91599    0.689762\n",
       "14400   145900   60.07620    0.689762\n",
       "14401   145900   60.24368    0.698022\n",
       "14402   145900   59.92327    0.698899\n",
       "14403   145900   60.14173    0.698899\n",
       "\n",
       "[14404 rows x 3 columns]"
      ]
     },
     "execution_count": 118,
     "metadata": {},
     "output_type": "execute_result"
    }
   ],
   "source": [
    "wind_df"
   ]
  },
  {
   "cell_type": "code",
   "execution_count": 129,
   "id": "1ab0ac41",
   "metadata": {},
   "outputs": [
    {
     "data": {
      "text/plain": [
       "0        144700\n",
       "1        144701\n",
       "2        144701\n",
       "3        144701\n",
       "4        144701\n",
       "          ...  \n",
       "14399    145859\n",
       "14400    145900\n",
       "14401    145900\n",
       "14402    145900\n",
       "14403    145900\n",
       "Name: datetime, Length: 14404, dtype: object"
      ]
     },
     "execution_count": 129,
     "metadata": {},
     "output_type": "execute_result"
    }
   ],
   "source": [
    "wind_df.iloc[:,0].groupby().mean()"
   ]
  },
  {
   "cell_type": "code",
   "execution_count": null,
   "id": "f3fb718e",
   "metadata": {},
   "outputs": [],
   "source": []
  },
  {
   "cell_type": "code",
   "execution_count": null,
   "id": "b8e90061",
   "metadata": {},
   "outputs": [],
   "source": []
  },
  {
   "cell_type": "code",
   "execution_count": null,
   "id": "b0e29d01",
   "metadata": {},
   "outputs": [],
   "source": []
  },
  {
   "cell_type": "code",
   "execution_count": null,
   "id": "3b218a48",
   "metadata": {},
   "outputs": [],
   "source": []
  },
  {
   "cell_type": "code",
   "execution_count": null,
   "id": "64f48d44",
   "metadata": {},
   "outputs": [],
   "source": []
  },
  {
   "cell_type": "code",
   "execution_count": null,
   "id": "99533aed",
   "metadata": {},
   "outputs": [],
   "source": []
  },
  {
   "cell_type": "code",
   "execution_count": null,
   "id": "27131d2c",
   "metadata": {},
   "outputs": [],
   "source": []
  },
  {
   "cell_type": "code",
   "execution_count": null,
   "id": "b626282c",
   "metadata": {},
   "outputs": [],
   "source": []
  },
  {
   "cell_type": "code",
   "execution_count": null,
   "id": "5afe7ce0",
   "metadata": {},
   "outputs": [],
   "source": []
  },
  {
   "cell_type": "code",
   "execution_count": null,
   "id": "66a6b523",
   "metadata": {},
   "outputs": [],
   "source": []
  },
  {
   "cell_type": "code",
   "execution_count": null,
   "id": "bf0062e3",
   "metadata": {},
   "outputs": [],
   "source": []
  },
  {
   "cell_type": "code",
   "execution_count": null,
   "id": "bd8f020c",
   "metadata": {},
   "outputs": [],
   "source": []
  },
  {
   "cell_type": "code",
   "execution_count": null,
   "id": "fdbbd686",
   "metadata": {},
   "outputs": [],
   "source": []
  },
  {
   "cell_type": "code",
   "execution_count": null,
   "id": "b3fc70ff",
   "metadata": {},
   "outputs": [],
   "source": []
  },
  {
   "cell_type": "code",
   "execution_count": null,
   "id": "6a1c2ea1",
   "metadata": {},
   "outputs": [],
   "source": []
  },
  {
   "cell_type": "code",
   "execution_count": null,
   "id": "f06eb540",
   "metadata": {},
   "outputs": [],
   "source": []
  },
  {
   "cell_type": "code",
   "execution_count": null,
   "id": "406e298f",
   "metadata": {},
   "outputs": [],
   "source": []
  }
 ],
 "metadata": {
  "kernelspec": {
   "display_name": "Python 3 (ipykernel)",
   "language": "python",
   "name": "python3"
  },
  "language_info": {
   "codemirror_mode": {
    "name": "ipython",
    "version": 3
   },
   "file_extension": ".py",
   "mimetype": "text/x-python",
   "name": "python",
   "nbconvert_exporter": "python",
   "pygments_lexer": "ipython3",
   "version": "3.8.10"
  }
 },
 "nbformat": 4,
 "nbformat_minor": 5
}

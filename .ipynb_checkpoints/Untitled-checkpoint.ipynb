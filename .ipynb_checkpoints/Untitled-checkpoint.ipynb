{
 "cells": [
  {
   "cell_type": "code",
   "execution_count": 1,
   "id": "74a4c5f9",
   "metadata": {},
   "outputs": [],
   "source": [
    "import pandas as pd\n",
    "import numpy as np\n",
    "import matplotlib.pyplot as plt\n",
    "import time\n",
    "import datetime"
   ]
  },
  {
   "cell_type": "code",
   "execution_count": 2,
   "id": "bd4ebab8",
   "metadata": {},
   "outputs": [
    {
     "data": {
      "text/plain": [
       "1634678815.8476996"
      ]
     },
     "execution_count": 2,
     "metadata": {},
     "output_type": "execute_result"
    }
   ],
   "source": [
    "wind_data=\"/home/flyranch/field_data_and_analysis_scripts/2021lab/wind_data_textfiles/2021_10_19.txt\"\n",
    "wind_df=pd.read_csv(wind_data,delimiter=' ',header=None)\n",
    "wind_df.columns=(\"time\",\"direction\",\"wind_speed\")\n",
    "wind_df.iloc[0][0]"
   ]
  },
  {
   "cell_type": "code",
   "execution_count": 3,
   "id": "cfb26596",
   "metadata": {},
   "outputs": [],
   "source": [
    "time_list=[]\n",
    "\n",
    "for i in wind_df.iloc[:,0]:\n",
    "    time=datetime.datetime.fromtimestamp(i)\n",
    "#    string_t=str(time.year)+'_'+str(time.month)+'_'+str(time.day)+'_'+str(time.hour)+'_'+str(time.minute)+'_'+str(time.second)+'_'+str(time.microsecond)\n",
    "#    print(string_t)\n",
    "    str_h=str(time.hour)\n",
    "    str_m=str(time.minute)\n",
    "    str_s=str(time.second)\n",
    "    if len(str_h)==1:\n",
    "        str_h='0'+str_h\n",
    "    if len(str_m)==1:\n",
    "        str_m='0'+str_m\n",
    "    if len(str_s)==1:\n",
    "        str_s='0'+str_s\n",
    "    str_time=str_h+str_m+str_s\n",
    "#    print(str_time)\n",
    "    time_list.append(str_time)\n",
    "    \n",
    "wind_df.iloc[:,0]=time_list\n",
    "\n",
    "t_list=wind_df.iloc[:,0]\n",
    "direction_list=wind_df.iloc[:,1]\n",
    "wind_spd_list=wind_df.iloc[:,2]"
   ]
  },
  {
   "cell_type": "code",
   "execution_count": 4,
   "id": "4022d4fa",
   "metadata": {},
   "outputs": [
    {
     "data": {
      "text/html": [
       "<div>\n",
       "<style scoped>\n",
       "    .dataframe tbody tr th:only-of-type {\n",
       "        vertical-align: middle;\n",
       "    }\n",
       "\n",
       "    .dataframe tbody tr th {\n",
       "        vertical-align: top;\n",
       "    }\n",
       "\n",
       "    .dataframe thead th {\n",
       "        text-align: right;\n",
       "    }\n",
       "</style>\n",
       "<table border=\"1\" class=\"dataframe\">\n",
       "  <thead>\n",
       "    <tr style=\"text-align: right;\">\n",
       "      <th></th>\n",
       "      <th>time</th>\n",
       "      <th>direction</th>\n",
       "      <th>wind_speed</th>\n",
       "    </tr>\n",
       "  </thead>\n",
       "  <tbody>\n",
       "    <tr>\n",
       "      <th>0</th>\n",
       "      <td>142655</td>\n",
       "      <td>242.6933</td>\n",
       "      <td>1.067701</td>\n",
       "    </tr>\n",
       "    <tr>\n",
       "      <th>1</th>\n",
       "      <td>142656</td>\n",
       "      <td>242.5695</td>\n",
       "      <td>1.065701</td>\n",
       "    </tr>\n",
       "    <tr>\n",
       "      <th>2</th>\n",
       "      <td>142656</td>\n",
       "      <td>242.6277</td>\n",
       "      <td>1.061761</td>\n",
       "    </tr>\n",
       "    <tr>\n",
       "      <th>3</th>\n",
       "      <td>142656</td>\n",
       "      <td>242.6204</td>\n",
       "      <td>1.059182</td>\n",
       "    </tr>\n",
       "    <tr>\n",
       "      <th>4</th>\n",
       "      <td>142656</td>\n",
       "      <td>242.4311</td>\n",
       "      <td>1.054397</td>\n",
       "    </tr>\n",
       "    <tr>\n",
       "      <th>...</th>\n",
       "      <td>...</td>\n",
       "      <td>...</td>\n",
       "      <td>...</td>\n",
       "    </tr>\n",
       "    <tr>\n",
       "      <th>65014</th>\n",
       "      <td>152106</td>\n",
       "      <td>136.9155</td>\n",
       "      <td>1.139138</td>\n",
       "    </tr>\n",
       "    <tr>\n",
       "      <th>65015</th>\n",
       "      <td>152106</td>\n",
       "      <td>136.9592</td>\n",
       "      <td>1.137441</td>\n",
       "    </tr>\n",
       "    <tr>\n",
       "      <th>65016</th>\n",
       "      <td>152106</td>\n",
       "      <td>137.0757</td>\n",
       "      <td>1.134290</td>\n",
       "    </tr>\n",
       "    <tr>\n",
       "      <th>65017</th>\n",
       "      <td>152106</td>\n",
       "      <td>137.1266</td>\n",
       "      <td>1.134813</td>\n",
       "    </tr>\n",
       "    <tr>\n",
       "      <th>65018</th>\n",
       "      <td>152106</td>\n",
       "      <td>137.1339</td>\n",
       "      <td>1.130606</td>\n",
       "    </tr>\n",
       "  </tbody>\n",
       "</table>\n",
       "<p>65019 rows × 3 columns</p>\n",
       "</div>"
      ],
      "text/plain": [
       "         time  direction  wind_speed\n",
       "0      142655   242.6933    1.067701\n",
       "1      142656   242.5695    1.065701\n",
       "2      142656   242.6277    1.061761\n",
       "3      142656   242.6204    1.059182\n",
       "4      142656   242.4311    1.054397\n",
       "...       ...        ...         ...\n",
       "65014  152106   136.9155    1.139138\n",
       "65015  152106   136.9592    1.137441\n",
       "65016  152106   137.0757    1.134290\n",
       "65017  152106   137.1266    1.134813\n",
       "65018  152106   137.1339    1.130606\n",
       "\n",
       "[65019 rows x 3 columns]"
      ]
     },
     "execution_count": 4,
     "metadata": {},
     "output_type": "execute_result"
    }
   ],
   "source": [
    "wind_df"
   ]
  },
  {
   "cell_type": "code",
   "execution_count": 5,
   "id": "ea8b0132",
   "metadata": {},
   "outputs": [
    {
     "data": {
      "text/plain": [
       "[<matplotlib.lines.Line2D at 0x7fa5ee0032b0>]"
      ]
     },
     "execution_count": 5,
     "metadata": {},
     "output_type": "execute_result"
    },
    {
     "data": {
      "image/png": "[encoded data removed]",
      "text/plain": [
       "<Figure size 432x288 with 1 Axes>"
      ]
     },
     "metadata": {
      "needs_background": "light"
     },
     "output_type": "display_data"
    }
   ],
   "source": [
    "plt.plot(t_list,direction_list)"
   ]
  },
  {
   "cell_type": "code",
   "execution_count": 6,
   "id": "bb57b2e3",
   "metadata": {},
   "outputs": [
    {
     "data": {
      "text/plain": [
       "[<matplotlib.lines.Line2D at 0x7fa5ea088670>]"
      ]
     },
     "execution_count": 6,
     "metadata": {},
     "output_type": "execute_result"
    },
    {
     "data": {
      "image/png": "[encoded data removed]",
      "text/plain": [
       "<Figure size 432x288 with 1 Axes>"
      ]
     },
     "metadata": {
      "needs_background": "light"
     },
     "output_type": "display_data"
    }
   ],
   "source": [
    "plt.plot(t_list,wind_spd_list)"
   ]
  },
  {
   "cell_type": "code",
   "execution_count": 37,
   "id": "1ab0ac41",
   "metadata": {},
   "outputs": [],
   "source": [
    "new_wind_df=wind_df.groupby(['time'], as_index=False).mean()"
   ]
  },
  {
   "cell_type": "code",
   "execution_count": 38,
   "id": "cbad4651",
   "metadata": {},
   "outputs": [
    {
     "data": {
      "text/html": [
       "<div>\n",
       "<style scoped>\n",
       "    .dataframe tbody tr th:only-of-type {\n",
       "        vertical-align: middle;\n",
       "    }\n",
       "\n",
       "    .dataframe tbody tr th {\n",
       "        vertical-align: top;\n",
       "    }\n",
       "\n",
       "    .dataframe thead th {\n",
       "        text-align: right;\n",
       "    }\n",
       "</style>\n",
       "<table border=\"1\" class=\"dataframe\">\n",
       "  <thead>\n",
       "    <tr style=\"text-align: right;\">\n",
       "      <th></th>\n",
       "      <th>time</th>\n",
       "      <th>direction</th>\n",
       "      <th>wind_speed</th>\n",
       "    </tr>\n",
       "  </thead>\n",
       "  <tbody>\n",
       "    <tr>\n",
       "      <th>0</th>\n",
       "      <td>142655</td>\n",
       "      <td>242.693300</td>\n",
       "      <td>1.067701</td>\n",
       "    </tr>\n",
       "    <tr>\n",
       "      <th>1</th>\n",
       "      <td>142656</td>\n",
       "      <td>242.344687</td>\n",
       "      <td>1.046089</td>\n",
       "    </tr>\n",
       "    <tr>\n",
       "      <th>2</th>\n",
       "      <td>142657</td>\n",
       "      <td>242.825409</td>\n",
       "      <td>1.009592</td>\n",
       "    </tr>\n",
       "    <tr>\n",
       "      <th>3</th>\n",
       "      <td>142658</td>\n",
       "      <td>260.668455</td>\n",
       "      <td>1.000095</td>\n",
       "    </tr>\n",
       "    <tr>\n",
       "      <th>4</th>\n",
       "      <td>142659</td>\n",
       "      <td>268.217756</td>\n",
       "      <td>1.079603</td>\n",
       "    </tr>\n",
       "    <tr>\n",
       "      <th>...</th>\n",
       "      <td>...</td>\n",
       "      <td>...</td>\n",
       "      <td>...</td>\n",
       "    </tr>\n",
       "    <tr>\n",
       "      <th>3247</th>\n",
       "      <td>152102</td>\n",
       "      <td>144.464828</td>\n",
       "      <td>1.126832</td>\n",
       "    </tr>\n",
       "    <tr>\n",
       "      <th>3248</th>\n",
       "      <td>152103</td>\n",
       "      <td>144.705345</td>\n",
       "      <td>1.079046</td>\n",
       "    </tr>\n",
       "    <tr>\n",
       "      <th>3249</th>\n",
       "      <td>152104</td>\n",
       "      <td>141.082129</td>\n",
       "      <td>1.078828</td>\n",
       "    </tr>\n",
       "    <tr>\n",
       "      <th>3250</th>\n",
       "      <td>152105</td>\n",
       "      <td>137.975157</td>\n",
       "      <td>1.085983</td>\n",
       "    </tr>\n",
       "    <tr>\n",
       "      <th>3251</th>\n",
       "      <td>152106</td>\n",
       "      <td>136.922750</td>\n",
       "      <td>1.135108</td>\n",
       "    </tr>\n",
       "  </tbody>\n",
       "</table>\n",
       "<p>3252 rows × 3 columns</p>\n",
       "</div>"
      ],
      "text/plain": [
       "        time   direction  wind_speed\n",
       "0     142655  242.693300    1.067701\n",
       "1     142656  242.344687    1.046089\n",
       "2     142657  242.825409    1.009592\n",
       "3     142658  260.668455    1.000095\n",
       "4     142659  268.217756    1.079603\n",
       "...      ...         ...         ...\n",
       "3247  152102  144.464828    1.126832\n",
       "3248  152103  144.705345    1.079046\n",
       "3249  152104  141.082129    1.078828\n",
       "3250  152105  137.975157    1.085983\n",
       "3251  152106  136.922750    1.135108\n",
       "\n",
       "[3252 rows x 3 columns]"
      ]
     },
     "execution_count": 38,
     "metadata": {},
     "output_type": "execute_result"
    }
   ],
   "source": [
    "new_wind_df"
   ]
  },
  {
   "cell_type": "code",
   "execution_count": 9,
   "id": "58a8f56e",
   "metadata": {},
   "outputs": [],
   "source": [
    "new_t_list=new_wind_df.index"
   ]
  },
  {
   "cell_type": "code",
   "execution_count": 10,
   "id": "0b968c88",
   "metadata": {},
   "outputs": [
    {
     "data": {
      "text/plain": [
       "time\n",
       "142655    242.693300\n",
       "142656    242.344687\n",
       "142657    242.825409\n",
       "142658    260.668455\n",
       "142659    268.217756\n",
       "             ...    \n",
       "152102    144.464828\n",
       "152103    144.705345\n",
       "152104    141.082129\n",
       "152105    137.975157\n",
       "152106    136.922750\n",
       "Name: direction, Length: 3252, dtype: float64"
      ]
     },
     "execution_count": 10,
     "metadata": {},
     "output_type": "execute_result"
    }
   ],
   "source": [
    "new_wind_df['direction']"
   ]
  },
  {
   "cell_type": "code",
   "execution_count": 11,
   "id": "f3fb718e",
   "metadata": {},
   "outputs": [
    {
     "data": {
      "text/plain": [
       "[<matplotlib.lines.Line2D at 0x7fa5e7c70b50>]"
      ]
     },
     "execution_count": 11,
     "metadata": {},
     "output_type": "execute_result"
    },
    {
     "data": {
      "image/png": "[encoded data removed]",
      "text/plain": [
       "<Figure size 432x288 with 1 Axes>"
      ]
     },
     "metadata": {
      "needs_background": "light"
     },
     "output_type": "display_data"
    }
   ],
   "source": [
    "plt.plot(new_wind_df['wind_speed'])"
   ]
  },
  {
   "cell_type": "code",
   "execution_count": 12,
   "id": "b8e90061",
   "metadata": {},
   "outputs": [
    {
     "data": {
      "text/plain": [
       "time\n",
       "142655    1.067701\n",
       "142656    1.046089\n",
       "142657    1.009592\n",
       "142658    1.000095\n",
       "142659    1.079603\n",
       "            ...   \n",
       "152102    1.126832\n",
       "152103    1.079046\n",
       "152104    1.078828\n",
       "152105    1.085983\n",
       "152106    1.135108\n",
       "Name: wind_speed, Length: 3252, dtype: float64"
      ]
     },
     "execution_count": 12,
     "metadata": {},
     "output_type": "execute_result"
    }
   ],
   "source": [
    "new_wind_df['wind_speed']"
   ]
  },
  {
   "cell_type": "code",
   "execution_count": 13,
   "id": "b0e29d01",
   "metadata": {},
   "outputs": [
    {
     "data": {
      "text/plain": [
       "[<matplotlib.lines.Line2D at 0x7fa5e512bd60>]"
      ]
     },
     "execution_count": 13,
     "metadata": {},
     "output_type": "execute_result"
    },
    {
     "data": {
      "image/png": "[encoded data removed]",
      "text/plain": [
       "<Figure size 432x288 with 1 Axes>"
      ]
     },
     "metadata": {
      "needs_background": "light"
     },
     "output_type": "display_data"
    }
   ],
   "source": [
    "plt.plot(new_wind_df['direction'])"
   ]
  },
  {
   "cell_type": "code",
   "execution_count": 29,
   "id": "3b218a48",
   "metadata": {},
   "outputs": [
    {
     "data": {
      "text/plain": [
       "Index(['143005', '143006', '143007', '143008', '143009', '143010', '143011',\n",
       "       '143012', '143013', '143014'],\n",
       "      dtype='object', name='time')"
      ]
     },
     "execution_count": 29,
     "metadata": {},
     "output_type": "execute_result"
    }
   ],
   "source": [
    "new_t_list[190:200]"
   ]
  },
  {
   "cell_type": "code",
   "execution_count": 30,
   "id": "64f48d44",
   "metadata": {},
   "outputs": [
    {
     "data": {
      "text/plain": [
       "time\n",
       "143005    242.646660\n",
       "143006    265.961548\n",
       "143007    266.470005\n",
       "143008    260.872505\n",
       "143009    265.829200\n",
       "143010    274.511276\n",
       "143011    273.879611\n",
       "143012    266.692060\n",
       "143013    260.500342\n",
       "143014    260.326527\n",
       "Name: direction, dtype: float64"
      ]
     },
     "execution_count": 30,
     "metadata": {},
     "output_type": "execute_result"
    }
   ],
   "source": [
    "new_wind_df['direction'][190:200]"
   ]
  },
  {
   "cell_type": "code",
   "execution_count": 39,
   "id": "99533aed",
   "metadata": {},
   "outputs": [],
   "source": [
    "new_w_list=new_wind_df['wind_speed']"
   ]
  },
  {
   "cell_type": "code",
   "execution_count": 43,
   "id": "27131d2c",
   "metadata": {},
   "outputs": [],
   "source": [
    "new_t_list=new_wind_df['time']"
   ]
  },
  {
   "cell_type": "code",
   "execution_count": 44,
   "id": "b626282c",
   "metadata": {},
   "outputs": [],
   "source": [
    "new_d_list=new_wind_df['direction']"
   ]
  },
  {
   "cell_type": "code",
   "execution_count": 45,
   "id": "5afe7ce0",
   "metadata": {},
   "outputs": [],
   "source": [
    "test_dict={\"t\":new_t_list,\"d\":new_d_list,\"w\":new_w_list}"
   ]
  },
  {
   "cell_type": "code",
   "execution_count": 46,
   "id": "66a6b523",
   "metadata": {},
   "outputs": [
    {
     "data": {
      "text/plain": [
       "{'t': 0       142655\n",
       " 1       142656\n",
       " 2       142657\n",
       " 3       142658\n",
       " 4       142659\n",
       "          ...  \n",
       " 3247    152102\n",
       " 3248    152103\n",
       " 3249    152104\n",
       " 3250    152105\n",
       " 3251    152106\n",
       " Name: time, Length: 3252, dtype: object,\n",
       " 'd': 0       242.693300\n",
       " 1       242.344687\n",
       " 2       242.825409\n",
       " 3       260.668455\n",
       " 4       268.217756\n",
       "            ...    \n",
       " 3247    144.464828\n",
       " 3248    144.705345\n",
       " 3249    141.082129\n",
       " 3250    137.975157\n",
       " 3251    136.922750\n",
       " Name: direction, Length: 3252, dtype: float64,\n",
       " 'w': 0       1.067701\n",
       " 1       1.046089\n",
       " 2       1.009592\n",
       " 3       1.000095\n",
       " 4       1.079603\n",
       "           ...   \n",
       " 3247    1.126832\n",
       " 3248    1.079046\n",
       " 3249    1.078828\n",
       " 3250    1.085983\n",
       " 3251    1.135108\n",
       " Name: wind_speed, Length: 3252, dtype: float64}"
      ]
     },
     "execution_count": 46,
     "metadata": {},
     "output_type": "execute_result"
    }
   ],
   "source": [
    "test_dict"
   ]
  },
  {
   "cell_type": "code",
   "execution_count": null,
   "id": "bf0062e3",
   "metadata": {},
   "outputs": [],
   "source": []
  },
  {
   "cell_type": "code",
   "execution_count": null,
   "id": "bd8f020c",
   "metadata": {},
   "outputs": [],
   "source": []
  },
  {
   "cell_type": "code",
   "execution_count": null,
   "id": "fdbbd686",
   "metadata": {},
   "outputs": [],
   "source": []
  },
  {
   "cell_type": "code",
   "execution_count": null,
   "id": "b3fc70ff",
   "metadata": {},
   "outputs": [],
   "source": []
  },
  {
   "cell_type": "code",
   "execution_count": null,
   "id": "6a1c2ea1",
   "metadata": {},
   "outputs": [],
   "source": []
  },
  {
   "cell_type": "code",
   "execution_count": null,
   "id": "f06eb540",
   "metadata": {},
   "outputs": [],
   "source": []
  },
  {
   "cell_type": "code",
   "execution_count": null,
   "id": "406e298f",
   "metadata": {},
   "outputs": [],
   "source": []
  }
 ],
 "metadata": {
  "kernelspec": {
   "display_name": "Python 3 (ipykernel)",
   "language": "python",
   "name": "python3"
  },
  "language_info": {
   "codemirror_mode": {
    "name": "ipython",
    "version": 3
   },
   "file_extension": ".py",
   "mimetype": "text/x-python",
   "name": "python",
   "nbconvert_exporter": "python",
   "pygments_lexer": "ipython3",
   "version": "3.8.10"
  }
 },
 "nbformat": 4,
 "nbformat_minor": 5
}
